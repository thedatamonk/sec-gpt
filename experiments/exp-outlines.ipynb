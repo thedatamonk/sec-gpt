{
 "cells": [
  {
   "cell_type": "code",
   "execution_count": 23,
   "id": "6167b5d0",
   "metadata": {},
   "outputs": [
    {
     "name": "stdout",
     "output_type": "stream",
     "text": [
      "{\n",
      "    \"properties\": {\n",
      "        \"name\": {\n",
      "            \"title\": \"Name\",\n",
      "            \"type\": \"string\"\n",
      "        },\n",
      "        \"capital\": {\n",
      "            \"title\": \"Capital\",\n",
      "            \"type\": \"string\"\n",
      "        },\n",
      "        \"languages\": {\n",
      "            \"items\": {\n",
      "                \"type\": \"string\"\n",
      "            },\n",
      "            \"title\": \"Languages\",\n",
      "            \"type\": \"array\"\n",
      "        }\n",
      "    },\n",
      "    \"required\": [\n",
      "        \"name\",\n",
      "        \"capital\",\n",
      "        \"languages\"\n",
      "    ],\n",
      "    \"title\": \"Country\",\n",
      "    \"type\": \"object\"\n",
      "}\n"
     ]
    }
   ],
   "source": [
    "import json\n",
    "from ollama import chat\n",
    "from pydantic import BaseModel\n",
    "\n",
    "class Country(BaseModel):\n",
    "  name: str\n",
    "  capital: str\n",
    "  languages: list[str]\n",
    "\n",
    "print (json.dumps(Country.model_json_schema(), indent=4))"
   ]
  },
  {
   "cell_type": "code",
   "execution_count": 25,
   "id": "9032863a",
   "metadata": {},
   "outputs": [
    {
     "data": {
      "text/plain": [
       "dict"
      ]
     },
     "execution_count": 25,
     "metadata": {},
     "output_type": "execute_result"
    }
   ],
   "source": [
    "type(Country.model_json_schema())"
   ]
  },
  {
   "cell_type": "code",
   "execution_count": 9,
   "id": "c635485c",
   "metadata": {},
   "outputs": [
    {
     "name": "stdout",
     "output_type": "stream",
     "text": [
      "{ \"name\": \"Canada\", \"capital\": \"Ottawa\", \"languages\": [\"English\", \"French\", \"Indigenous languages\", \"other minority languages\"] }\n",
      "\n",
      " \n"
     ]
    }
   ],
   "source": [
    "response = chat(\n",
    "  messages=[\n",
    "    {\n",
    "      'role': 'user',\n",
    "      'content': 'Tell me about Canada.',\n",
    "    }\n",
    "  ],\n",
    "  model='llama3:instruct',\n",
    "  format=Country.model_json_schema(),\n",
    ")\n",
    "\n",
    "print (response.message.content)"
   ]
  },
  {
   "cell_type": "code",
   "execution_count": 15,
   "id": "0210ea8f",
   "metadata": {},
   "outputs": [
    {
     "name": "stdout",
     "output_type": "stream",
     "text": [
      "name='Canada' capital='Ottawa' languages=['English', 'French', 'Indigenous languages', 'other minority languages']\n"
     ]
    }
   ],
   "source": [
    "country = Country.model_validate_json(response.message.content)\n",
    "print(country)"
   ]
  },
  {
   "cell_type": "code",
   "execution_count": 22,
   "id": "228bc9d1",
   "metadata": {},
   "outputs": [
    {
     "name": "stdout",
     "output_type": "stream",
     "text": [
      "{'pets': [{'name': 'Luna', 'animal': 'cat', 'age': 5, 'color': 'grey', 'favorite_toy': 'yarn'}, {'name': 'Loki', 'animal': 'cat', 'age': 2, 'color': 'black', 'favorite_toy': 'tennis balls'}]}\n"
     ]
    }
   ],
   "source": [
    "from ollama import chat\n",
    "from pydantic import BaseModel\n",
    "\n",
    "class Pet(BaseModel):\n",
    "  name: str\n",
    "  animal: str\n",
    "  age: int\n",
    "  color: str | None\n",
    "  favorite_toy: str | None\n",
    "\n",
    "class PetList(BaseModel):\n",
    "  pets: list[Pet]\n",
    "\n",
    "response = chat(\n",
    "  messages=[\n",
    "    {\n",
    "      'role': 'user',\n",
    "      'content': '''\n",
    "        I have two pets.\n",
    "        A cat named Luna who is 5 years old and loves playing with yarn. She has grey fur.\n",
    "        I also have a 2 year old black cat named Loki who loves tennis balls.\n",
    "      ''',\n",
    "    }\n",
    "  ],\n",
    "  model='llama3:instruct',\n",
    "  format=PetList.model_json_schema(),\n",
    ")\n",
    "\n",
    "pets = PetList.model_validate_json(response.message.content).model_dump()\n",
    "print(pets)"
   ]
  },
  {
   "cell_type": "code",
   "execution_count": 20,
   "id": "7ca96ed8",
   "metadata": {},
   "outputs": [
    {
     "name": "stdout",
     "output_type": "stream",
     "text": [
      "Luna 5\n",
      "Loki 2\n"
     ]
    }
   ],
   "source": [
    "for pet in pets.pets:\n",
    "    print (pet.name, pet.age)"
   ]
  },
  {
   "cell_type": "code",
   "execution_count": null,
   "id": "1473db81",
   "metadata": {},
   "outputs": [],
   "source": []
  }
 ],
 "metadata": {
  "kernelspec": {
   "display_name": "llm-env",
   "language": "python",
   "name": "python3"
  },
  "language_info": {
   "codemirror_mode": {
    "name": "ipython",
    "version": 3
   },
   "file_extension": ".py",
   "mimetype": "text/x-python",
   "name": "python",
   "nbconvert_exporter": "python",
   "pygments_lexer": "ipython3",
   "version": "3.10.14"
  }
 },
 "nbformat": 4,
 "nbformat_minor": 5
}
